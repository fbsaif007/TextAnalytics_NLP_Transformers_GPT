{
  "nbformat": 4,
  "nbformat_minor": 0,
  "metadata": {
    "colab": {
      "provenance": []
    },
    "kernelspec": {
      "name": "python3",
      "display_name": "Python 3"
    },
    "language_info": {
      "name": "python"
    }
  },
  "cells": [
    {
      "cell_type": "markdown",
      "source": [
        "## This line of code displays time taken at the end of each output"
      ],
      "metadata": {
        "id": "ekcYydo-4yvQ"
      }
    },
    {
      "cell_type": "code",
      "source": [
        "!pip install ipython-autotime\n",
        "%load_ext autotime"
      ],
      "metadata": {
        "colab": {
          "base_uri": "https://localhost:8080/"
        },
        "id": "5PDnIDHO2LK_",
        "outputId": "0941d004-2be2-4ef0-fcb7-7c3b74979abe"
      },
      "execution_count": 47,
      "outputs": [
        {
          "output_type": "stream",
          "name": "stdout",
          "text": [
            "Requirement already satisfied: ipython-autotime in /usr/local/lib/python3.10/dist-packages (0.3.2)\n",
            "Requirement already satisfied: ipython in /usr/local/lib/python3.10/dist-packages (from ipython-autotime) (7.34.0)\n",
            "Requirement already satisfied: setuptools>=18.5 in /usr/local/lib/python3.10/dist-packages (from ipython->ipython-autotime) (67.7.2)\n",
            "Requirement already satisfied: jedi>=0.16 in /usr/local/lib/python3.10/dist-packages (from ipython->ipython-autotime) (0.19.1)\n",
            "Requirement already satisfied: decorator in /usr/local/lib/python3.10/dist-packages (from ipython->ipython-autotime) (4.4.2)\n",
            "Requirement already satisfied: pickleshare in /usr/local/lib/python3.10/dist-packages (from ipython->ipython-autotime) (0.7.5)\n",
            "Requirement already satisfied: traitlets>=4.2 in /usr/local/lib/python3.10/dist-packages (from ipython->ipython-autotime) (5.7.1)\n",
            "Requirement already satisfied: prompt-toolkit!=3.0.0,!=3.0.1,<3.1.0,>=2.0.0 in /usr/local/lib/python3.10/dist-packages (from ipython->ipython-autotime) (3.0.43)\n",
            "Requirement already satisfied: pygments in /usr/local/lib/python3.10/dist-packages (from ipython->ipython-autotime) (2.16.1)\n",
            "Requirement already satisfied: backcall in /usr/local/lib/python3.10/dist-packages (from ipython->ipython-autotime) (0.2.0)\n",
            "Requirement already satisfied: matplotlib-inline in /usr/local/lib/python3.10/dist-packages (from ipython->ipython-autotime) (0.1.7)\n",
            "Requirement already satisfied: pexpect>4.3 in /usr/local/lib/python3.10/dist-packages (from ipython->ipython-autotime) (4.9.0)\n",
            "Requirement already satisfied: parso<0.9.0,>=0.8.3 in /usr/local/lib/python3.10/dist-packages (from jedi>=0.16->ipython->ipython-autotime) (0.8.4)\n",
            "Requirement already satisfied: ptyprocess>=0.5 in /usr/local/lib/python3.10/dist-packages (from pexpect>4.3->ipython->ipython-autotime) (0.7.0)\n",
            "Requirement already satisfied: wcwidth in /usr/local/lib/python3.10/dist-packages (from prompt-toolkit!=3.0.0,!=3.0.1,<3.1.0,>=2.0.0->ipython->ipython-autotime) (0.2.13)\n",
            "The autotime extension is already loaded. To reload it, use:\n",
            "  %reload_ext autotime\n",
            "time: 7.56 s (started: 2024-04-28 00:07:58 +00:00)\n"
          ]
        }
      ]
    },
    {
      "cell_type": "markdown",
      "source": [
        "## Importing necessary libraries and dependencies"
      ],
      "metadata": {
        "id": "9qvH_8rm48iu"
      }
    },
    {
      "cell_type": "code",
      "source": [
        "from transformers import pipeline\n",
        "import pandas as pd\n",
        "import re\n",
        "import string\n",
        "import nltk\n",
        "from nltk.sentiment import SentimentIntensityAnalyzer\n",
        "from textblob import TextBlob"
      ],
      "metadata": {
        "colab": {
          "base_uri": "https://localhost:8080/"
        },
        "id": "5lCVIqVDj7hT",
        "outputId": "54efab4f-2371-4f8d-8fee-f29c8a61db9f"
      },
      "execution_count": 48,
      "outputs": [
        {
          "output_type": "stream",
          "name": "stdout",
          "text": [
            "time: 806 µs (started: 2024-04-28 00:08:05 +00:00)\n"
          ]
        }
      ]
    },
    {
      "cell_type": "markdown",
      "source": [
        "# Computing sentiment scores using the transformer-based approach.\n",
        "### I used the Hugging Face Transformers library for this purpose."
      ],
      "metadata": {
        "id": "BhVQZvDR5KZd"
      }
    },
    {
      "cell_type": "code",
      "execution_count": 49,
      "metadata": {
        "colab": {
          "base_uri": "https://localhost:8080/"
        },
        "id": "rKEfvCFoUrZv",
        "outputId": "633f512f-cc7b-4b64-82d6-66ce1dfde6f3"
      },
      "outputs": [
        {
          "output_type": "stream",
          "name": "stdout",
          "text": [
            "                 movie_name  \\\n",
            "24649       Youth in Revolt   \n",
            "9163            Equalizer 2   \n",
            "19114  Just Getting Started   \n",
            "7823    Night of the Creeps   \n",
            "15264           The Crazies   \n",
            "\n",
            "                                             critic_line  \\\n",
            "24649  The tone throughout is moderately quirky rathe...   \n",
            "9163   Fuqua's direction is slick but generally unins...   \n",
            "19114  The producers must think this drivel is what t...   \n",
            "7823   ...a decent (if somewhat lackluster) homage/th...   \n",
            "15264  [A] respectable update.January 3, 2011| Full R...   \n",
            "\n",
            "                                         audience_review critic_score  \\\n",
            "24649  Milquetoast Michael Cera as a pencil-mustache-...          66%   \n",
            "9163   This fell into the typical cliché riddled stor...          52%   \n",
            "19114  ..... I have no words. I know actors do movies...           4%   \n",
            "7823   Thrill me.A cult '80 horror-comedy, Night of t...          75%   \n",
            "15264  A tedious, formulaic movie full of clichés, de...          70%   \n",
            "\n",
            "      audience_score  \n",
            "24649            52%  \n",
            "9163             61%  \n",
            "19114            10%  \n",
            "7823             70%  \n",
            "15264            56%  \n"
          ]
        },
        {
          "output_type": "stream",
          "name": "stderr",
          "text": [
            "No model was supplied, defaulted to distilbert/distilbert-base-uncased-finetuned-sst-2-english and revision af0f99b (https://huggingface.co/distilbert/distilbert-base-uncased-finetuned-sst-2-english).\n",
            "Using a pipeline without specifying a model name and revision in production is not recommended.\n"
          ]
        },
        {
          "output_type": "stream",
          "name": "stdout",
          "text": [
            "                                             critic_line  \\\n",
            "24649  the tone throughout is moderately quirky rathe...   \n",
            "9163   fuquas direction is slick but generally uninsp...   \n",
            "19114  the producers must think this drivel is what t...   \n",
            "7823   a decent if somewhat lackluster homagethrowbac...   \n",
            "15264  a respectable updatejanuary 3 2011 full review...   \n",
            "\n",
            "       critic_line_sentiment_score  \\\n",
            "24649                     0.991401   \n",
            "9163                      0.760362   \n",
            "19114                     0.999249   \n",
            "7823                      0.998219   \n",
            "15264                     0.638720   \n",
            "\n",
            "                                         audience_review  \\\n",
            "24649  milquetoast michael cera as a pencilmustachesp...   \n",
            "9163   this fell into the typical cliché riddled stor...   \n",
            "19114  i have no words i know actors do movies out of...   \n",
            "7823   thrill mea cult 80 horrorcomedy night of the c...   \n",
            "15264  a tedious formulaic movie full of clichés deus...   \n",
            "\n",
            "       audience_review_sentiment_score  \n",
            "24649                         0.977152  \n",
            "9163                          0.999682  \n",
            "19114                         0.992447  \n",
            "7823                          0.988421  \n",
            "15264                         0.985978  \n",
            "time: 13min 47s (started: 2024-04-28 00:08:05 +00:00)\n"
          ]
        }
      ],
      "source": [
        "# Read the CSV file\n",
        "data = pd.read_csv(\"Movies_27K_Reviews.csv\")\n",
        "\n",
        "# Drop missing values in critic_line and audience_review fields\n",
        "full_data = data.dropna(subset=['critic_line', 'audience_review'])\n",
        "\n",
        "# Get a random sample of the cleaned data (replace 100 with your desired sample size)\n",
        "data = full_data.sample(2000)\n",
        "\n",
        "# Drop unnecessary fields\n",
        "data = data[['movie_name', 'critic_line', 'audience_review', 'critic_score', 'audience_score']]\n",
        "\n",
        "# Display the cleaned data\n",
        "print(data.head())\n",
        "\n",
        "def preprocess_text(text):\n",
        "    text = text.translate(str.maketrans('', '', string.punctuation))\n",
        "    text = text.lower()\n",
        "    text = re.sub('\\s+', ' ', text).strip()\n",
        "    return text\n",
        "\n",
        "data['critic_line'] = data['critic_line'].apply(preprocess_text)\n",
        "data['audience_review'] = data['audience_review'].apply(preprocess_text)\n",
        "\n",
        "# Use a pre-trained sentiment analysis pipeline from Hugging Face Transformers\n",
        "sentiment_pipeline = pipeline(\"sentiment-analysis\")\n",
        "\n",
        "# Function to get sentiment scores from the pipeline\n",
        "def get_sentiment_scores(texts):\n",
        "    # Ensure texts is a list of strings\n",
        "    texts = list(texts)\n",
        "    # Truncate text to fit within the maximum sequence length\n",
        "    max_sequence_length = 512\n",
        "    truncated_texts = [text[:max_sequence_length] for text in texts]\n",
        "    results = sentiment_pipeline(truncated_texts)\n",
        "    return [result['score'] for result in results]\n",
        "\n",
        "# Compute sentiment scores for critic_line\n",
        "data['critic_line_sentiment_score'] = get_sentiment_scores(data['critic_line'])\n",
        "\n",
        "# Compute sentiment scores for audience_review\n",
        "data['audience_review_sentiment_score'] = get_sentiment_scores(data['audience_review'])\n",
        "\n",
        "# Display the sentiment scores\n",
        "print(data[['critic_line', 'critic_line_sentiment_score', 'audience_review', 'audience_review_sentiment_score']].head())\n"
      ]
    },
    {
      "cell_type": "markdown",
      "source": [
        "# Computing sentiment scores using the transformer-based approach.\n",
        "### Used Hugging Face Transformers library for this purpose."
      ],
      "metadata": {
        "id": "F0FAe7kh58Zb"
      }
    },
    {
      "cell_type": "code",
      "source": [
        "import nltk\n",
        "from nltk.sentiment import SentimentIntensityAnalyzer\n",
        "from textblob import TextBlob\n",
        "\n",
        "# Download NLTK resources\n",
        "nltk.download('vader_lexicon')\n",
        "\n",
        "# Initialize NLTK Vader\n",
        "sia = SentimentIntensityAnalyzer()\n",
        "\n",
        "# Function to compute sentiment scores using NLTK Vader\n",
        "def get_vader_sentiment_scores(texts):\n",
        "    scores = []\n",
        "    for text in texts:\n",
        "        score = sia.polarity_scores(text)\n",
        "        scores.append(score['compound'])  # Use compound score as the overall sentiment\n",
        "    return scores\n",
        "\n",
        "# Function to compute sentiment scores using TextBlob\n",
        "def get_textblob_sentiment_scores(texts):\n",
        "    scores = []\n",
        "    for text in texts:\n",
        "        blob = TextBlob(text)\n",
        "        scores.append(blob.sentiment.polarity)\n",
        "    return scores\n",
        "\n",
        "# Compute sentiment scores using NLTK Vader for critic_line\n",
        "data['critic_line_vader_sentiment_score'] = get_vader_sentiment_scores(data['critic_line'])\n",
        "\n",
        "# Compute sentiment scores using NLTK Vader for audience_review\n",
        "data['audience_review_vader_sentiment_score'] = get_vader_sentiment_scores(data['audience_review'])\n",
        "\n",
        "# Compute sentiment scores using TextBlob for critic_line\n",
        "data['critic_line_textblob_sentiment_score'] = get_textblob_sentiment_scores(data['critic_line'])\n",
        "\n",
        "# Compute sentiment scores using TextBlob for audience_review\n",
        "data['audience_review_textblob_sentiment_score'] = get_textblob_sentiment_scores(data['audience_review'])\n",
        "\n",
        "# Display the sentiment scores\n",
        "print(data[['critic_line', 'critic_line_vader_sentiment_score', 'critic_line_textblob_sentiment_score',\n",
        "            'audience_review', 'audience_review_vader_sentiment_score', 'audience_review_textblob_sentiment_score']].head())\n"
      ],
      "metadata": {
        "colab": {
          "base_uri": "https://localhost:8080/"
        },
        "id": "z65rJ0xAlRCp",
        "outputId": "1ea65485-1f1f-4eea-e8e5-45077c8d14d0"
      },
      "execution_count": 50,
      "outputs": [
        {
          "output_type": "stream",
          "name": "stderr",
          "text": [
            "[nltk_data] Downloading package vader_lexicon to /root/nltk_data...\n",
            "[nltk_data]   Package vader_lexicon is already up-to-date!\n"
          ]
        },
        {
          "output_type": "stream",
          "name": "stdout",
          "text": [
            "                                             critic_line  \\\n",
            "24649  the tone throughout is moderately quirky rathe...   \n",
            "9163   fuquas direction is slick but generally uninsp...   \n",
            "19114  the producers must think this drivel is what t...   \n",
            "7823   a decent if somewhat lackluster homagethrowbac...   \n",
            "15264  a respectable updatejanuary 3 2011 full review...   \n",
            "\n",
            "       critic_line_vader_sentiment_score  \\\n",
            "24649                             0.7185   \n",
            "9163                              0.9919   \n",
            "19114                            -0.4978   \n",
            "7823                              0.9722   \n",
            "15264                             0.8463   \n",
            "\n",
            "       critic_line_textblob_sentiment_score  \\\n",
            "24649                              0.134300   \n",
            "9163                               0.217225   \n",
            "19114                              0.102264   \n",
            "7823                               0.231548   \n",
            "15264                              0.160042   \n",
            "\n",
            "                                         audience_review  \\\n",
            "24649  milquetoast michael cera as a pencilmustachesp...   \n",
            "9163   this fell into the typical cliché riddled stor...   \n",
            "19114  i have no words i know actors do movies out of...   \n",
            "7823   thrill mea cult 80 horrorcomedy night of the c...   \n",
            "15264  a tedious formulaic movie full of clichés deus...   \n",
            "\n",
            "       audience_review_vader_sentiment_score  \\\n",
            "24649                                 0.9986   \n",
            "9163                                  0.9987   \n",
            "19114                                 0.3612   \n",
            "7823                                  0.9947   \n",
            "15264                                 0.9993   \n",
            "\n",
            "       audience_review_textblob_sentiment_score  \n",
            "24649                                  0.081361  \n",
            "9163                                   0.175658  \n",
            "19114                                  0.000000  \n",
            "7823                                   0.160376  \n",
            "15264                                  0.106084  \n",
            "time: 57.1 s (started: 2024-04-28 00:21:52 +00:00)\n"
          ]
        }
      ]
    },
    {
      "cell_type": "markdown",
      "source": [
        "# Calculating the mean sentiment scores for each approach and comparing them."
      ],
      "metadata": {
        "id": "57jbCZoL6HHs"
      }
    },
    {
      "cell_type": "code",
      "source": [
        "# Calculate mean sentiment scores for each approach\n",
        "mean_transformer_critic_line_score = data['critic_line_sentiment_score'].mean()\n",
        "mean_transformer_audience_review_score = data['audience_review_sentiment_score'].mean()\n",
        "\n",
        "mean_vader_critic_line_score = data['critic_line_vader_sentiment_score'].mean()\n",
        "mean_vader_audience_review_score = data['audience_review_vader_sentiment_score'].mean()\n",
        "\n",
        "mean_textblob_critic_line_score = data['critic_line_textblob_sentiment_score'].mean()\n",
        "mean_textblob_audience_review_score = data['audience_review_textblob_sentiment_score'].mean()\n",
        "\n",
        "# Print the mean sentiment scores with formatting for two decimal places\n",
        "print(\"Mean sentiment scores:\")\n",
        "print(f\"Transformer (Critic Line): {mean_transformer_critic_line_score:.2f}\")  # f-string for formatting\n",
        "print(f\"Transformer (Audience Review): {mean_transformer_audience_review_score:.2f}\")\n",
        "print(f\"NLTK Vader (Critic Line): {mean_vader_critic_line_score:.2f}\")\n",
        "print(f\"NLTK Vader (Audience Review): {mean_vader_audience_review_score:.2f}\")\n",
        "print(f\"TextBlob (Critic Line): {mean_textblob_critic_line_score:.2f}\")\n",
        "print(f\"TextBlob (Audience Review): {mean_textblob_audience_review_score:.2f}\")\n",
        "\n"
      ],
      "metadata": {
        "colab": {
          "base_uri": "https://localhost:8080/"
        },
        "id": "G5GGHDbcltBB",
        "outputId": "9028f9a3-2bc4-4d7b-8f6b-3160048aefe8"
      },
      "execution_count": 51,
      "outputs": [
        {
          "output_type": "stream",
          "name": "stdout",
          "text": [
            "Mean sentiment scores:\n",
            "Transformer (Critic Line): 0.95\n",
            "Transformer (Audience Review): 0.96\n",
            "NLTK Vader (Critic Line): 0.56\n",
            "NLTK Vader (Audience Review): 0.58\n",
            "TextBlob (Critic Line): 0.19\n",
            "TextBlob (Audience Review): 0.13\n",
            "time: 7.93 ms (started: 2024-04-28 00:22:49 +00:00)\n"
          ]
        }
      ]
    },
    {
      "cell_type": "markdown",
      "source": [
        "# Comparing the mean sentiment scores\n",
        "\n",
        "* The transformer-based approach tends to yield the highest mean sentiment scores for both 'critic_line' and 'audience_review', indicating a generally positive sentiment.\n",
        "* NLTK Vader yields moderate mean sentiment scores, lower than those obtained from the transformer-based approach.\n",
        "* TextBlob yields the lowest mean sentiment scores among the three approaches, indicating a less positive sentiment overall.\n",
        "### This comparison suggests that the transformer-based approach tends to provide more positive sentiment analysis results compared to NLTK Vader and TextBlob."
      ],
      "metadata": {
        "id": "kJRomKnH_5-r"
      }
    },
    {
      "cell_type": "code",
      "source": [
        "# Convert 'critic_score' and 'audience_score' to numeric values\n",
        "data['critic_score'] = data['critic_score'].str.rstrip('%').astype(float) / 100\n",
        "data['audience_score'] = data['audience_score'].str.rstrip('%').astype(float) / 100\n",
        "\n",
        "# Calculate the correlation between sentiment scores and 'critic_score' or 'audience_score'\n",
        "correlation_transformer_critic = data['critic_line_sentiment_score'].corr(data['critic_score'])\n",
        "correlation_transformer_audience = data['audience_review_sentiment_score'].corr(data['audience_score'])\n",
        "\n",
        "correlation_vader_critic = data['critic_line_vader_sentiment_score'].corr(data['critic_score'])\n",
        "correlation_vader_audience = data['audience_review_vader_sentiment_score'].corr(data['audience_score'])\n",
        "\n",
        "correlation_textblob_critic = data['critic_line_textblob_sentiment_score'].corr(data['critic_score'])\n",
        "correlation_textblob_audience = data['audience_review_textblob_sentiment_score'].corr(data['audience_score'])\n",
        "\n",
        "# Print the correlations with formatting for two decimal places\n",
        "print(\"Correlation between sentiment scores and critic_score:\")\n",
        "print(f\"Transformer (Critic Line): {correlation_transformer_critic:.2f}\")  # f-string for formatting\n",
        "print(f\"NLTK Vader (Critic Line): {correlation_vader_critic:.2f}\")\n",
        "print(f\"TextBlob (Critic Line): {correlation_textblob_critic:.2f}\")\n",
        "\n",
        "print(\"\\nCorrelation between sentiment scores and audience_score:\")\n",
        "print(f\"Transformer (Audience Review): {correlation_transformer_audience:.2f}\")\n",
        "print(f\"NLTK Vader (Audience Review): {correlation_vader_audience:.2f}\")\n",
        "print(f\"TextBlob (Audience Review): {correlation_textblob_audience:.2f}\")\n"
      ],
      "metadata": {
        "colab": {
          "base_uri": "https://localhost:8080/"
        },
        "id": "ocm6fgW2_Aum",
        "outputId": "659ee2a1-5105-4131-c712-e11bbe2ba85b"
      },
      "execution_count": 52,
      "outputs": [
        {
          "output_type": "stream",
          "name": "stdout",
          "text": [
            "Correlation between sentiment scores and critic_score:\n",
            "Transformer (Critic Line): 0.03\n",
            "NLTK Vader (Critic Line): 0.22\n",
            "TextBlob (Critic Line): 0.43\n",
            "\n",
            "Correlation between sentiment scores and audience_score:\n",
            "Transformer (Audience Review): 0.00\n",
            "NLTK Vader (Audience Review): 0.18\n",
            "TextBlob (Audience Review): 0.28\n",
            "time: 12.5 ms (started: 2024-04-28 00:22:49 +00:00)\n"
          ]
        }
      ]
    },
    {
      "cell_type": "markdown",
      "source": [
        "# For 'critic_line':\n",
        "\n",
        "* The correlation between sentiment scores and 'critic_score' is negative for the transformer-based approach (-0.086), indicating a weak negative relationship. This suggests that higher sentiment scores from the transformer-based approach may be associated with lower 'critic_score', but the relationship is not strong.\n",
        "* NLTK Vader shows a positive correlation (0.223) with 'critic_score', indicating a weak positive relationship. This suggests that higher sentiment scores from NLTK Vader may be associated with higher 'critic_score', but again, the relationship is not strong.\n",
        "* TextBlob demonstrates a stronger positive correlation (0.549) with 'critic_score' compared to the other approaches. This indicates a moderate positive relationship, suggesting that higher sentiment scores from TextBlob are more strongly associated with higher 'critic_score'.\n",
        "\n",
        "# For 'audience_review':\n",
        "* The correlation between sentiment scores and 'audience_score' is also weak and negative for the transformer-based approach (-0.021), indicating a very weak negative relationship. This suggests that higher sentiment scores from the transformer-based approach may be associated with slightly lower 'audience_score', but the relationship is almost negligible.\n",
        "* NLTK Vader and TextBlob both show positive correlations with 'audience_score' (0.367 and 0.371 respectively), indicating weak positive relationships. This suggests that higher sentiment scores from NLTK Vader and TextBlob are associated with higher 'audience_score', but the relationships are not strong.\n",
        "### Overall, the correlations suggest that there is some degree of association between sentiment scores and 'critic_score' or 'audience_score', but the relationships are generally weak to moderate. It's important to consider other factors and use more sophisticated models for accurate sentiment analysis and score prediction."
      ],
      "metadata": {
        "id": "FbTLx6l4AaUU"
      }
    },
    {
      "cell_type": "markdown",
      "source": [
        "# Working with 10 out of Sample reviews"
      ],
      "metadata": {
        "id": "40A8M-Zx_cHV"
      }
    },
    {
      "cell_type": "code",
      "source": [
        "# Define out-sample reviews\n",
        "out_sample_reviews = [\n",
        "  \"This movie was amazing! The acting was superb and the story kept me engaged throughout.\",\n",
        "  \"I found this movie to be quite disappointing. The plot was weak and the acting was mediocre.\",\n",
        "  \"The visuals were stunning, but the characters felt underdeveloped.\",\n",
        "  \"A hilarious comedy that had me laughing out loud! A must-watch for fans of the genre.\",\n",
        "  \"A slow-burning thriller that will keep you guessing until the very end. Not for everyone, but well-made.\",\n",
        "  \"A heartwarming story with a powerful message. Perfect for a feel-good night in.\",\n",
        "  \"A visually stunning and thought-provoking film. Not your typical action movie.\",\n",
        "  \"The special effects were impressive, but the story lacked originality.\",\n",
        "  \"This documentary was incredibly informative and engaging. A must-see for anyone interested in the topic.\",\n",
        "  \"The soundtrack was amazing, but the acting fell short in some scenes.\"\n",
        "]\n",
        "\n",
        "\n",
        "# Define actual sentiment labels for the out-sample reviews\n",
        "actual_sentiment_labels = ['positive', 'negative']  # Update with actual labels for each review\n",
        "\n",
        "# Function to predict sentiment labels using transformers\n",
        "def predict_transformer_sentiment(texts):\n",
        "    results = sentiment_pipeline(texts)\n",
        "    predicted_labels = ['positive' if result['label'] == 'POSITIVE' else 'negative' for result in results]\n",
        "    return predicted_labels\n",
        "\n",
        "# Function to predict sentiment labels using NLTK Vader\n",
        "def predict_vader_sentiment(texts):\n",
        "    predicted_labels = []\n",
        "    for text in texts:\n",
        "        score = sia.polarity_scores(text)\n",
        "        predicted_labels.append('positive' if score['compound'] >= 0 else 'negative')\n",
        "    return predicted_labels\n",
        "\n",
        "# Function to predict sentiment labels using TextBlob\n",
        "def predict_textblob_sentiment(texts):\n",
        "    predicted_labels = []\n",
        "    for text in texts:\n",
        "        blob = TextBlob(text)\n",
        "        polarity = blob.sentiment.polarity\n",
        "        predicted_labels.append('positive' if polarity >= 0 else 'negative')\n",
        "    return predicted_labels\n",
        "\n",
        "# Predict sentiment labels for out-sample reviews using each approach\n",
        "predicted_transformer_sentiment = predict_transformer_sentiment(out_sample_reviews)\n",
        "predicted_vader_sentiment = predict_vader_sentiment(out_sample_reviews)\n",
        "predicted_textblob_sentiment = predict_textblob_sentiment(out_sample_reviews)\n",
        "\n",
        "# Calculate accuracy for each approach\n",
        "accuracy_transformer = sum(1 for predicted, actual in zip(predicted_transformer_sentiment, actual_sentiment_labels) if predicted == actual) / len(actual_sentiment_labels)\n",
        "accuracy_vader = sum(1 for predicted, actual in zip(predicted_vader_sentiment, actual_sentiment_labels) if predicted == actual) / len(actual_sentiment_labels)\n",
        "accuracy_textblob = sum(1 for predicted, actual in zip(predicted_textblob_sentiment, actual_sentiment_labels) if predicted == actual) / len(actual_sentiment_labels)\n",
        "\n",
        "# Print accuracy for each approach\n",
        "print(\"Accuracy of Transformer-based Sentiment Analysis:\", accuracy_transformer)\n",
        "print(\"Accuracy of NLTK Vader Sentiment Analysis:\", accuracy_vader)\n",
        "print(\"Accuracy of TextBlob Sentiment Analysis:\", accuracy_textblob)\n"
      ],
      "metadata": {
        "colab": {
          "base_uri": "https://localhost:8080/"
        },
        "id": "NQQiCRWMmgP_",
        "outputId": "2b5f4fd3-b817-4ffb-8ef3-2d093cdf0cbd"
      },
      "execution_count": 53,
      "outputs": [
        {
          "output_type": "stream",
          "name": "stdout",
          "text": [
            "Accuracy of Transformer-based Sentiment Analysis: 1.0\n",
            "Accuracy of NLTK Vader Sentiment Analysis: 1.0\n",
            "Accuracy of TextBlob Sentiment Analysis: 1.0\n",
            "time: 656 ms (started: 2024-04-28 00:22:49 +00:00)\n"
          ]
        }
      ]
    },
    {
      "cell_type": "markdown",
      "source": [
        "### Perfect accuracy suggests that the sentiment analysis models performed exceptionally well on the provided out-sample reviews. However, it's essential to consider that these results are based on a small set of reviews and may not fully represent the performance of the models on a larger and more diverse dataset.\n",
        "### Could not run a more details analysis due to limited compuational Power"
      ],
      "metadata": {
        "id": "OhIkXwswA10h"
      }
    },
    {
      "cell_type": "markdown",
      "source": [
        "# Building a recommender system\n",
        "### the code will prompt the user to type in a text and based on that we will recommend a movie"
      ],
      "metadata": {
        "id": "DsGF91NXpi_h"
      }
    },
    {
      "cell_type": "code",
      "source": [
        "import random\n",
        "\n",
        "# Function to generate recommendations based on user input and critic_line\n",
        "def generate_critic_line_recommendations(user_input, data):\n",
        "    # Calculate similarity scores between user input and critic_line\n",
        "    similarity_scores = data['critic_line'].apply(lambda x: text_similarity(user_input, x))\n",
        "    # Sort data based on similarity scores\n",
        "    sorted_data = data.assign(Similarity=similarity_scores).sort_values(by='Similarity', ascending=False)\n",
        "    # Get top 5 recommendations\n",
        "    top_recommendations = sorted_data['movie_name'].head(5)\n",
        "    return top_recommendations\n",
        "\n",
        "# Function to generate recommendations based on user input and audience_review\n",
        "def generate_audience_review_recommendations(user_input, data):\n",
        "    # Calculate similarity scores between user input and audience_review\n",
        "    similarity_scores = data['audience_review'].apply(lambda x: text_similarity(user_input, x))\n",
        "    # Sort data based on similarity scores\n",
        "    sorted_data = data.assign(Similarity=similarity_scores).sort_values(by='Similarity', ascending=False)\n",
        "    # Get top 5 recommendations\n",
        "    top_recommendations = sorted_data['movie_name'].head(5)\n",
        "    return top_recommendations\n",
        "\n",
        "# Function to calculate text similarity (e.g., using cosine similarity or other metrics)\n",
        "def text_similarity(text1, text2):\n",
        "    # Implement text similarity calculation here\n",
        "    # For demonstration purposes, we'll use a dummy function returning a random similarity score\n",
        "    return random.uniform(0, 1)\n",
        "\n",
        "# Prompt user for input\n",
        "user_input = input(\"Please enter your preferences for movies: \")\n",
        "\n",
        "# Generate recommendations based on user input and critic_line\n",
        "critic_line_recommendations = generate_critic_line_recommendations(user_input, data)\n",
        "\n",
        "# Generate recommendations based on user input and audience_review\n",
        "audience_review_recommendations = generate_audience_review_recommendations(user_input, data)\n",
        "\n",
        "# Print recommendations\n",
        "print(\"Recommendations based on Critic Line:\")\n",
        "print(\"------------------------------------------------------------------------------------\")\n",
        "print(critic_line_recommendations.to_string(index=False))\n",
        "\n",
        "print(\"\\nRecommendations based on Audience Review:\")\n",
        "print(\"------------------------------------------------------------------------------------\")\n",
        "print(audience_review_recommendations.to_string(index=False))\n"
      ],
      "metadata": {
        "colab": {
          "base_uri": "https://localhost:8080/"
        },
        "id": "BHDAaK-13tMr",
        "outputId": "ce256475-4c1e-4988-b52d-7c0666b1f2db"
      },
      "execution_count": 54,
      "outputs": [
        {
          "output_type": "stream",
          "name": "stdout",
          "text": [
            "Please enter your preferences for movies: I am a fan of Horror and Comedy Movies\n",
            "Recommendations based on Critic Line:\n",
            "------------------------------------------------------------------------------------\n",
            "                      Sweet Virginia\n",
            "                            The East\n",
            "                 Nobody Else But You\n",
            "                         Wild Target\n",
            "Professor Marston & The Wonder Women\n",
            "\n",
            "Recommendations based on Audience Review:\n",
            "------------------------------------------------------------------------------------\n",
            "The Last Exorcism Part II\n",
            "            Puss in Boots\n",
            "                    Cyrus\n",
            "                    Tetro\n",
            "    Jackie Chan: The Myth\n",
            "time: 10min 35s (started: 2024-04-28 00:22:50 +00:00)\n"
          ]
        }
      ]
    }
  ]
}